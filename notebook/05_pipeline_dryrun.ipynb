{
 "cells": [
  {
   "cell_type": "code",
   "execution_count": 13,
   "id": "d91a9726",
   "metadata": {},
   "outputs": [
    {
     "name": "stdout",
     "output_type": "stream",
     "text": [
      "{'data': {'clean_NQ': 'data/clean/NQ_clean.csv', 'clean_ES': 'data/clean/ES_clean.csv', 'clean_EMD': 'data/clean/EMD_clean.csv', 'clean_YM': 'data/clean/YM_clean.csv'}, 'indicators': {'rsi_period': 2, 'hurst_window': 20}, 'entry_thresholds': {'rsi_low': 10.0, 'rsi_high': 20.0}, 'exits': {'max_time_exit': False, 'max_time_in': 11, 'take_profit': False, 'max_profitable_closes': 5, 'RSI_exit': False}, 'ablation': {'use_rsi': True, 'use_hurst': True, 'use_time_exit': True, 'use_RSI_exit': True, 'use_take_profit': True}}\n",
      "\n",
      "Data Path: data/clean/NQ_clean.csv\n",
      "RSI period: 2\n",
      "RSI_range: 10.0 - 20.0\n"
     ]
    }
   ],
   "source": [
    "import yaml\n",
    "\n",
    "yaml_path = \"configs/base.yaml\"\n",
    "\n",
    "# Open yaml file and read it\n",
    "with open(yaml_path, \"r\") as f:\n",
    "    config = yaml.safe_load(f)\n",
    "\n",
    "print(config)\n",
    "\n",
    "# Examples\n",
    "print(\"\\nData Path:\", config[\"data\"][\"clean_NQ\"])\n",
    "print(\"RSI period:\", config[\"indicators\"][\"rsi_period\"])\n",
    "print(\"RSI_range:\", config[\"entry_thresholds\"][\"rsi_low\"], \"-\", config[\"entry_thresholds\"][\"rsi_high\"])\n"
   ]
  }
 ],
 "metadata": {
  "kernelspec": {
   "display_name": "hurst-regime-pullback",
   "language": "python",
   "name": "python3"
  },
  "language_info": {
   "codemirror_mode": {
    "name": "ipython",
    "version": 3
   },
   "file_extension": ".py",
   "mimetype": "text/x-python",
   "name": "python",
   "nbconvert_exporter": "python",
   "pygments_lexer": "ipython3",
   "version": "3.13.4"
  }
 },
 "nbformat": 4,
 "nbformat_minor": 5
}
